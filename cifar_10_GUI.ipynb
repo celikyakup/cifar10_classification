{
 "cells": [
  {
   "cell_type": "code",
   "execution_count": 2,
   "id": "e0dbc4f9",
   "metadata": {},
   "outputs": [],
   "source": [
    "import tkinter as tk\n",
    "from tkinter import filedialog\n",
    "from tkinter import *\n",
    "from PIL import ImageTk,Image\n",
    "import numpy as np\n"
   ]
  },
  {
   "cell_type": "code",
   "execution_count": null,
   "id": "72c074b6",
   "metadata": {},
   "outputs": [],
   "source": []
  },
  {
   "cell_type": "code",
   "execution_count": 34,
   "id": "987a735b",
   "metadata": {},
   "outputs": [
    {
     "name": "stdout",
     "output_type": "stream",
     "text": [
      "1/1 [==============================] - 0s 225ms/step\n",
      "automobile\n",
      "1/1 [==============================] - 0s 27ms/step\n",
      "automobile\n",
      "1/1 [==============================] - 0s 28ms/step\n",
      "aeroplane\n"
     ]
    }
   ],
   "source": [
    "from keras.models import load_model\n",
    "model=load_model(\"model_cifar10 (1).h5\")\n",
    "\n",
    "results= {\n",
    "    0:\"aeroplane\",\n",
    "    1:\"automobile\",\n",
    "    2:\"bird\",\n",
    "    3:\"cat\",\n",
    "    4:\"deer\",\n",
    "    5:\"dog\",\n",
    "    6:\"frog\",\n",
    "    7:\"horse\",\n",
    "    8:\"ship\",\n",
    "    9:\"truck\"\n",
    "}\n",
    "\n",
    "top=tk.Tk()\n",
    "top.geometry(\"800x600\")\n",
    "top.title(\"Image Classification CIFAR 10\")\n",
    "top.configure(background=\"#CDCDCD\")\n",
    "label=Label(top,background=\"#CDCDCD\",font=(\"arial\",15,\"bold\"))\n",
    "sign_image=Label(top)\n",
    "\n",
    "def classify(file_path):\n",
    "    \n",
    "    global label_packed\n",
    "    image=Image.open(file_path)\n",
    "    image=image.resize((32,32))\n",
    "    image=np.expand_dims(image,axis=0)\n",
    "    image=np.array(image)\n",
    "    pred = np.argmax(model.predict(image),axis=1)\n",
    "    sign=results[pred[0]]\n",
    "    print(sign)\n",
    "    label.configure(foreground=\"#011638\",text=sign)\n",
    "\n",
    "def show_classify_button(file_path):\n",
    "    classify_b=Button(top,text=\"Classify Image\",command=lambda: classify(file_path),padx=10,pady=5)\n",
    "    classify_b.configure(background=\"#364156\",foreground=\"white\",font=(\"arial\",9,\"bold\"))\n",
    "    classify_b.place(relx=0.79,rely=0.46)\n",
    "\n",
    "def upload_image():\n",
    "    try:\n",
    "        file_path=filedialog.askopenfilename()\n",
    "        uploaded=Image.open(file_path)\n",
    "        uploaded.thumbnail(((top.winfo_width()/2.25),(top.winfo_height()/2.25)))\n",
    "        im=ImageTk.PhotoImage(uploaded)\n",
    "        sign_image.configure(image=im)\n",
    "        sign_image.image=im\n",
    "        label.configure(text=\"\")\n",
    "        show_classify_button(file_path)\n",
    "    except:\n",
    "        pass\n",
    "\n",
    "upload=Button(top,text=\"Upload an Image\",command=upload_image,padx=10,pady=5)\n",
    "\n",
    "upload.configure(background=\"#364156\",foreground=\"white\",font=(\"arial\",10,\"bold\"))\n",
    "\n",
    "upload.pack(side=BOTTOM,pady=50)\n",
    "sign_image.pack(side=BOTTOM,expand=True)\n",
    "label.pack(side=BOTTOM,expand=True)\n",
    "heading=Label(top,text=\"Image Classification CIFAR 10\",pady=20,font=(\"arial\",20,\"bold\"))\n",
    "\n",
    "heading.configure(background=\"#CDCDCD\",foreground=\"#364156\")\n",
    "heading.pack()\n",
    "top.mainloop()"
   ]
  },
  {
   "cell_type": "code",
   "execution_count": null,
   "id": "5f52c3bc",
   "metadata": {},
   "outputs": [],
   "source": []
  }
 ],
 "metadata": {
  "kernelspec": {
   "display_name": "Python 3 (ipykernel)",
   "language": "python",
   "name": "python3"
  },
  "language_info": {
   "codemirror_mode": {
    "name": "ipython",
    "version": 3
   },
   "file_extension": ".py",
   "mimetype": "text/x-python",
   "name": "python",
   "nbconvert_exporter": "python",
   "pygments_lexer": "ipython3",
   "version": "3.9.12"
  },
  "toc": {
   "base_numbering": 1,
   "nav_menu": {},
   "number_sections": true,
   "sideBar": true,
   "skip_h1_title": false,
   "title_cell": "Table of Contents",
   "title_sidebar": "Contents",
   "toc_cell": false,
   "toc_position": {},
   "toc_section_display": true,
   "toc_window_display": false
  },
  "varInspector": {
   "cols": {
    "lenName": 16,
    "lenType": 16,
    "lenVar": 40
   },
   "kernels_config": {
    "python": {
     "delete_cmd_postfix": "",
     "delete_cmd_prefix": "del ",
     "library": "var_list.py",
     "varRefreshCmd": "print(var_dic_list())"
    },
    "r": {
     "delete_cmd_postfix": ") ",
     "delete_cmd_prefix": "rm(",
     "library": "var_list.r",
     "varRefreshCmd": "cat(var_dic_list()) "
    }
   },
   "types_to_exclude": [
    "module",
    "function",
    "builtin_function_or_method",
    "instance",
    "_Feature"
   ],
   "window_display": false
  }
 },
 "nbformat": 4,
 "nbformat_minor": 5
}
